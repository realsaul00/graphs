{
 "cells": [
  {
   "cell_type": "code",
   "execution_count": 1,
   "metadata": {
    "collapsed": true
   },
   "outputs": [],
   "source": [
    "import numpy as np\n",
    "import networkx as nx\n",
    "import matplotlib as plt\n",
    "%matplotlib inline"
   ]
  },
  {
   "cell_type": "code",
   "execution_count": 2,
   "metadata": {
    "collapsed": true
   },
   "outputs": [],
   "source": [
    "graph = {'A': {'B':2, 'C':3},\n",
    "         'B': {'C':2, 'D':2},\n",
    "         'C': {'D':3, 'E':2},\n",
    "         'D': {'F':3},\n",
    "         'E': {'D':1, 'F':1},\n",
    "         'F': {}}"
   ]
  },
  {
   "cell_type": "code",
   "execution_count": 3,
   "metadata": {
    "collapsed": true
   },
   "outputs": [],
   "source": [
    "Graph = nx.DiGraph()\n",
    "for node in graph:\n",
    "    Graph.add_nodes_from(node)\n",
    "    for edge, weight in graph[node].items():\n",
    "        Graph.add_edge(node,edge, weight=weight)"
   ]
  },
  {
   "cell_type": "code",
   "execution_count": 4,
   "metadata": {
    "collapsed": true
   },
   "outputs": [],
   "source": [
    "pos = { 'A': [0.00, 0.50], 'B': [0.25, 0.75],\n",
    "        'C': [0.25, 0.25], 'D': [0.75, 0.75],\n",
    "        'E': [0.75, 0.25], 'F': [1.00, 0.50]}"
   ]
  },
  {
   "cell_type": "code",
   "execution_count": 5,
   "metadata": {},
   "outputs": [
    {
     "name": "stderr",
     "output_type": "stream",
     "text": [
      "/Users/saultamariz/anaconda/lib/python3.6/site-packages/networkx/drawing/nx_pylab.py:126: MatplotlibDeprecationWarning: pyplot.hold is deprecated.\n",
      "    Future behavior will be consistent with the long-time default:\n",
      "    plot commands add elements without first clearing the\n",
      "    Axes and/or Figure.\n",
      "  b = plt.ishold()\n",
      "/Users/saultamariz/anaconda/lib/python3.6/site-packages/networkx/drawing/nx_pylab.py:522: MatplotlibDeprecationWarning: The is_string_like function was deprecated in version 2.1.\n",
      "  if not cb.is_string_like(edge_color) \\\n",
      "/Users/saultamariz/anaconda/lib/python3.6/site-packages/networkx/drawing/nx_pylab.py:543: MatplotlibDeprecationWarning: The is_string_like function was deprecated in version 2.1.\n",
      "  if cb.is_string_like(edge_color) or len(edge_color) == 1:\n",
      "/Users/saultamariz/anaconda/lib/python3.6/site-packages/networkx/drawing/nx_pylab.py:724: MatplotlibDeprecationWarning: The is_string_like function was deprecated in version 2.1.\n",
      "  if not cb.is_string_like(label):\n",
      "/Users/saultamariz/anaconda/lib/python3.6/site-packages/networkx/drawing/nx_pylab.py:138: MatplotlibDeprecationWarning: pyplot.hold is deprecated.\n",
      "    Future behavior will be consistent with the long-time default:\n",
      "    plot commands add elements without first clearing the\n",
      "    Axes and/or Figure.\n",
      "  plt.hold(b)\n",
      "/Users/saultamariz/anaconda/lib/python3.6/site-packages/matplotlib/__init__.py:911: MatplotlibDeprecationWarning: axes.hold is deprecated. Please remove it from your matplotlibrc and/or style files.\n",
      "  mplDeprecation)\n",
      "/Users/saultamariz/anaconda/lib/python3.6/site-packages/matplotlib/rcsetup.py:156: MatplotlibDeprecationWarning: axes.hold is deprecated, will be removed in 3.0\n",
      "  mplDeprecation)\n",
      "/Users/saultamariz/anaconda/lib/python3.6/site-packages/networkx/drawing/nx_pylab.py:861: MatplotlibDeprecationWarning: The is_string_like function was deprecated in version 2.1.\n",
      "  if not cb.is_string_like(label):\n"
     ]
    },
    {
     "ename": "AttributeError",
     "evalue": "module 'matplotlib' has no attribute 'show'",
     "output_type": "error",
     "traceback": [
      "\u001b[0;31m---------------------------------------------------------------------------\u001b[0m",
      "\u001b[0;31mAttributeError\u001b[0m                            Traceback (most recent call last)",
      "\u001b[0;32m<ipython-input-5-25e446bfb92e>\u001b[0m in \u001b[0;36m<module>\u001b[0;34m()\u001b[0m\n\u001b[1;32m      5\u001b[0m \u001b[0;34m\u001b[0m\u001b[0m\n\u001b[1;32m      6\u001b[0m \u001b[0mnx\u001b[0m\u001b[0;34m.\u001b[0m\u001b[0mdraw_networkx\u001b[0m\u001b[0;34m(\u001b[0m\u001b[0mGraph\u001b[0m\u001b[0;34m,\u001b[0m \u001b[0mpos\u001b[0m\u001b[0;34m)\u001b[0m\u001b[0;34m\u001b[0m\u001b[0m\n\u001b[0;32m----> 7\u001b[0;31m \u001b[0mplt\u001b[0m\u001b[0;34m.\u001b[0m\u001b[0mshow\u001b[0m\u001b[0;34m(\u001b[0m\u001b[0;34m)\u001b[0m\u001b[0;34m\u001b[0m\u001b[0m\n\u001b[0m",
      "\u001b[0;31mAttributeError\u001b[0m: module 'matplotlib' has no attribute 'show'"
     ]
    },
    {
     "data": {
      "image/png": "[encoded data removed]",
      "text/plain": [
       "<Figure size 432x288 with 1 Axes>"
      ]
     },
     "metadata": {},
     "output_type": "display_data"
    }
   ],
   "source": [
    "labels = nx.get_edge_attributes(Graph, 'weight')\n",
    "nx.draw(Graph, pos, with_labels=True)\n",
    "nx.draw_networkx_edge_labels(Graph, pos, \n",
    "                            edge_labels=labels)\n",
    "\n",
    "nx.draw_networkx(Graph, pos)\n",
    "plt.show()"
   ]
  },
  {
   "cell_type": "code",
   "execution_count": 17,
   "metadata": {},
   "outputs": [],
   "source": [
    "class binaryTree:\n",
    "    def __init__(self, nodeData, left=None, right=None):\n",
    "        self.nodeData = nodeData\n",
    "        self.left = left\n",
    "        self.right = right\n",
    "        \n",
    "    def __str__(self):\n",
    "        return str(self.nodeData)"
   ]
  },
  {
   "cell_type": "code",
   "execution_count": 18,
   "metadata": {
    "collapsed": true
   },
   "outputs": [],
   "source": [
    "tree = binaryTree('Root')\n",
    "BranchA = binaryTree(\"Branch A\")\n",
    "BranchB = binaryTree(\"Branch B\")\n",
    "tree.left = BranchA\n",
    "tree.right = BranchB\n",
    "\n",
    "LeafC = binaryTree(\"Leaf C\")\n",
    "LeafD = binaryTree(\"Leaf D\")\n",
    "LeafE = binaryTree(\"Leaf E\")\n",
    "LeafF = binaryTree(\"Leaf F\")\n",
    "\n",
    "BranchA.left = LeafC\n",
    "BranchA.right = LeafD\n",
    "BranchB.left = LeafE\n",
    "BranchB.right = LeafF"
   ]
  },
  {
   "cell_type": "code",
   "execution_count": 19,
   "metadata": {},
   "outputs": [],
   "source": [
    "def traverse(tree):\n",
    "    if tree.left != None:\n",
    "        traverse(tree.left)\n",
    "    if tree.right != None:\n",
    "        traverse(tree.right)\n",
    "    print(tree.nodeData)"
   ]
  },
  {
   "cell_type": "code",
   "execution_count": 20,
   "metadata": {},
   "outputs": [
    {
     "name": "stdout",
     "output_type": "stream",
     "text": [
      "Leaf C\n",
      "Leaf D\n",
      "Branch A\n",
      "Leaf E\n",
      "Leaf F\n",
      "Branch B\n",
      "Root\n"
     ]
    }
   ],
   "source": [
    "traverse(tree)"
   ]
  },
  {
   "cell_type": "code",
   "execution_count": 21,
   "metadata": {
    "collapsed": true
   },
   "outputs": [],
   "source": [
    "class VampireTree:\n",
    "    def __init__(self, nodeData, left=None, right=None, center=None):\n",
    "        self.nodeData = nodeData\n",
    "        self.left = left\n",
    "        self.right = right\n",
    "        self.center = center\n",
    "        \n",
    "    def __str__(self):\n",
    "        return str(self.nodeData)"
   ]
  },
  {
   "cell_type": "code",
   "execution_count": 22,
   "metadata": {},
   "outputs": [],
   "source": [
    "vampire_tree = VampireTree(\"Person Name\")\n",
    "BranchA = VampireTree(\"Eats Garlic?\")\n",
    "BranchB = VampireTree(\"Complexion?\")\n",
    "BranchC = VampireTree(\"Shadow?\")\n",
    "\n",
    "vampire_tree.left = BranchA\n",
    "vampire_tree.right = BranchB\n",
    "vampire_tree.center = BranchC\n",
    "\n",
    "LeafC = VampireTree(\"Yes\")\n",
    "LeafD = VampireTree(\"No\")\n",
    "\n",
    "LeafE = VampireTree(\"Normal\")\n",
    "LeafF = VampireTree(\"Pale\")\n",
    "LeafG = VampireTree(\"Red\")\n",
    "\n",
    "LeafH = VampireTree(\"Yes\")\n",
    "LeafI = VampireTree(\"No\")\n",
    "\n",
    "BranchA.left = LeafC\n",
    "BranchA.right = LeafD\n",
    "                  \n",
    "BranchB.left = LeafE\n",
    "BranchB.right = LeafF\n",
    "BranchB.center = LeafG\n",
    "                  \n",
    "BranchC.right = LeafH\n",
    "BranchC.left = LeafI"
   ]
  },
  {
   "cell_type": "code",
   "execution_count": 23,
   "metadata": {},
   "outputs": [],
   "source": [
    "def traverse2(vampire_tree):\n",
    "    if vampire_tree.left != None:\n",
    "        traverse(vampire_tree.left)\n",
    "    if vampire_tree.right != None:\n",
    "        traverse(vampire_tree.right)\n",
    "    if vampire_tree.center != None:\n",
    "        traverse(vampire_tree.center)\n",
    "    print(vampire_tree.nodeData)"
   ]
  },
  {
   "cell_type": "code",
   "execution_count": 24,
   "metadata": {},
   "outputs": [
    {
     "name": "stdout",
     "output_type": "stream",
     "text": [
      "Yes\n",
      "No\n",
      "Eats Garlic?\n",
      "Normal\n",
      "Pale\n",
      "Complexion?\n",
      "No\n",
      "Yes\n",
      "Shadow?\n",
      "Person Name\n"
     ]
    }
   ],
   "source": [
    "traverse2(vampire_tree)"
   ]
  },
  {
   "cell_type": "code",
   "execution_count": null,
   "metadata": {
    "collapsed": true
   },
   "outputs": [],
   "source": []
  }
 ],
 "metadata": {
  "kernelspec": {
   "display_name": "Python 3",
   "language": "python",
   "name": "python3"
  },
  "language_info": {
   "codemirror_mode": {
    "name": "ipython",
    "version": 3
   },
   "file_extension": ".py",
   "mimetype": "text/x-python",
   "name": "python",
   "nbconvert_exporter": "python",
   "pygments_lexer": "ipython3",
   "version": "3.6.1"
  }
 },
 "nbformat": 4,
 "nbformat_minor": 2
}
